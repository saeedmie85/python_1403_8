{
 "cells": [
  {
   "cell_type": "code",
   "execution_count": 2,
   "metadata": {},
   "outputs": [
    {
     "data": {
      "text/plain": [
       "'d g'"
      ]
     },
     "execution_count": 2,
     "metadata": {},
     "output_type": "execute_result"
    }
   ],
   "source": [
    "'d' +' ' + 'g'"
   ]
  },
  {
   "cell_type": "code",
   "execution_count": 3,
   "metadata": {},
   "outputs": [
    {
     "data": {
      "text/plain": [
       "'********************'"
      ]
     },
     "execution_count": 3,
     "metadata": {},
     "output_type": "execute_result"
    }
   ],
   "source": [
    "'*'*20"
   ]
  },
  {
   "cell_type": "code",
   "execution_count": 4,
   "metadata": {},
   "outputs": [
    {
     "data": {
      "text/plain": [
       "'hi how \\nare\\nyou'"
      ]
     },
     "execution_count": 4,
     "metadata": {},
     "output_type": "execute_result"
    }
   ],
   "source": [
    "r = 'hi how \\nare\\nyou'\n",
    "r"
   ]
  },
  {
   "cell_type": "code",
   "execution_count": 5,
   "metadata": {},
   "outputs": [
    {
     "name": "stdout",
     "output_type": "stream",
     "text": [
      "hi how \n",
      "are\n",
      "you\n"
     ]
    }
   ],
   "source": [
    "print(r)"
   ]
  },
  {
   "cell_type": "code",
   "execution_count": 7,
   "metadata": {},
   "outputs": [
    {
     "name": "stdout",
     "output_type": "stream",
     "text": [
      "hi                      how \t\t\tare\tyou\n"
     ]
    }
   ],
   "source": [
    "r = 'hi                      how \\t\\t\\tare\\tyou'\n",
    "print(r)"
   ]
  },
  {
   "cell_type": "code",
   "execution_count": 8,
   "metadata": {},
   "outputs": [
    {
     "data": {
      "text/plain": [
       "'hi                      how \\t\\t\\tare\\tyou'"
      ]
     },
     "execution_count": 8,
     "metadata": {},
     "output_type": "execute_result"
    }
   ],
   "source": [
    "r"
   ]
  },
  {
   "cell_type": "code",
   "execution_count": 10,
   "metadata": {},
   "outputs": [
    {
     "name": "stdout",
     "output_type": "stream",
     "text": [
      "D:\\Mostafai\\python 1403 paeez\t5\n"
     ]
    }
   ],
   "source": [
    "path = 'D:\\Mostafai\\python 1403 paeez\\t5'\n",
    "print(path)"
   ]
  },
  {
   "cell_type": "code",
   "execution_count": 11,
   "metadata": {},
   "outputs": [
    {
     "name": "stdout",
     "output_type": "stream",
     "text": [
      "D:\\Mostafai\\python 1403 paeez\\t5\n"
     ]
    }
   ],
   "source": [
    "path = 'D:\\Mostafai\\python 1403 paeez\\\\t5'\n",
    "print(path)"
   ]
  },
  {
   "cell_type": "code",
   "execution_count": 12,
   "metadata": {},
   "outputs": [
    {
     "name": "stdout",
     "output_type": "stream",
     "text": [
      "D:\\Mostafai\\python 1403 paeez\\t5\n"
     ]
    }
   ],
   "source": [
    "path = r'D:\\Mostafai\\python 1403 paeez\\t5'\n",
    "print(path)"
   ]
  },
  {
   "cell_type": "code",
   "execution_count": 13,
   "metadata": {},
   "outputs": [
    {
     "data": {
      "text/plain": [
       "'D:\\\\Mostafai\\\\python 1403 paeez\\\\t5'"
      ]
     },
     "execution_count": 13,
     "metadata": {},
     "output_type": "execute_result"
    }
   ],
   "source": [
    "path"
   ]
  },
  {
   "cell_type": "code",
   "execution_count": 14,
   "metadata": {},
   "outputs": [
    {
     "name": "stdout",
     "output_type": "stream",
     "text": [
      "he said 'waht do you do'\n"
     ]
    }
   ],
   "source": [
    "s = 'he said \\'waht do you do\\''\n",
    "print(s)"
   ]
  },
  {
   "cell_type": "code",
   "execution_count": 15,
   "metadata": {},
   "outputs": [
    {
     "name": "stdout",
     "output_type": "stream",
     "text": [
      "he said 'waht do you do'\n"
     ]
    }
   ],
   "source": [
    "s = \"he said 'waht do you do'\"\n",
    "print(s)"
   ]
  },
  {
   "cell_type": "code",
   "execution_count": 16,
   "metadata": {},
   "outputs": [],
   "source": [
    "s = \"\"\"he said \n",
    "'waht do \n",
    "\n",
    "\n",
    "\n",
    "you do'\"\"\""
   ]
  },
  {
   "cell_type": "code",
   "execution_count": 17,
   "metadata": {},
   "outputs": [
    {
     "name": "stdout",
     "output_type": "stream",
     "text": [
      "he said \n",
      "'waht do \n",
      "\n",
      "\n",
      "\n",
      "you do'\n"
     ]
    }
   ],
   "source": [
    "print(s)"
   ]
  },
  {
   "cell_type": "code",
   "execution_count": 18,
   "metadata": {},
   "outputs": [
    {
     "name": "stdout",
     "output_type": "stream",
     "text": [
      "* * * * * * * * * * \n",
      "* * * * * * * * * * \n",
      "* * * * * * * * * * \n",
      "* * * * * * * * * * \n",
      "* * * * * * * * * * \n",
      "* * * * * * * * * * \n",
      "* * * * * * * * * * \n",
      "* * * * * * * * * * \n",
      "* * * * * * * * * * \n",
      "* * * * * * * * * * \n"
     ]
    }
   ],
   "source": [
    "for _ in range(10):\n",
    "    print('* '*10)"
   ]
  },
  {
   "cell_type": "code",
   "execution_count": 21,
   "metadata": {},
   "outputs": [
    {
     "name": "stdout",
     "output_type": "stream",
     "text": [
      "* * * * * * * * * * \n",
      "*                     *\n",
      "*                     *\n",
      "*                     *\n",
      "*                     *\n",
      "*                     *\n",
      "*                     *\n",
      "*                     *\n",
      "*                     *\n",
      "* * * * * * * * * * \n"
     ]
    }
   ],
   "source": [
    "for i in range(10):\n",
    "    if i == 0 or i == 9:\n",
    "        print('* '*10)\n",
    "    else:\n",
    "        print('* ' + '  '*10 + '*')"
   ]
  },
  {
   "cell_type": "code",
   "execution_count": 22,
   "metadata": {},
   "outputs": [
    {
     "name": "stdout",
     "output_type": "stream",
     "text": [
      "* * * * * * * * * * \n",
      "*                     *\n",
      "*                     *\n",
      "*                     *\n",
      "*                     *\n",
      "*                     *\n",
      "*                     *\n",
      "*                     *\n",
      "*                     *\n",
      "* * * * * * * * * * \n"
     ]
    }
   ],
   "source": [
    "for i in range(10):\n",
    "    if i in [0,9]:\n",
    "        print('* '*10)\n",
    "    else:\n",
    "        print('* ' + '  '*10 + '*')"
   ]
  },
  {
   "cell_type": "code",
   "execution_count": 23,
   "metadata": {},
   "outputs": [
    {
     "name": "stdout",
     "output_type": "stream",
     "text": [
      "* * * * * * * * * * * * * * * * * * * * \n",
      "*                                         *\n",
      "*                                         *\n",
      "*                                         *\n",
      "*                                         *\n",
      "*                                         *\n",
      "*                                         *\n",
      "*                                         *\n",
      "*                                         *\n",
      "*                                         *\n",
      "*                                         *\n",
      "*                                         *\n",
      "*                                         *\n",
      "*                                         *\n",
      "*                                         *\n",
      "*                                         *\n",
      "*                                         *\n",
      "*                                         *\n",
      "*                                         *\n",
      "* * * * * * * * * * * * * * * * * * * * \n"
     ]
    }
   ],
   "source": [
    "size = int(input('please enter the size: '))\n",
    "for i in range(size):\n",
    "    if i in [0,size-1]:\n",
    "        print('* '*size)\n",
    "    else:\n",
    "        print('* ' + '  '*size + '*')"
   ]
  },
  {
   "cell_type": "code",
   "execution_count": 31,
   "metadata": {},
   "outputs": [
    {
     "name": "stdout",
     "output_type": "stream",
     "text": [
      "*            *\n",
      "*            *\n",
      "*            *\n",
      "*            *\n",
      "*            *\n",
      "*            *\n",
      "*            *\n",
      "***************\n",
      "*            *\n",
      "*            *\n",
      "*            *\n",
      "*            *\n",
      "*            *\n",
      "*            *\n",
      "*            *\n"
     ]
    }
   ],
   "source": [
    "size = int(input('please enter the size: '))\n",
    "for i in range(size):\n",
    "    if i == size//2:\n",
    "        print('*'*size)\n",
    "    else:\n",
    "        print('*            *')"
   ]
  },
  {
   "cell_type": "code",
   "execution_count": 32,
   "metadata": {},
   "outputs": [
    {
     "name": "stdout",
     "output_type": "stream",
     "text": [
      "hi\n"
     ]
    }
   ],
   "source": [
    "print('hi')"
   ]
  }
 ],
 "metadata": {
  "kernelspec": {
   "display_name": "Python 3",
   "language": "python",
   "name": "python3"
  },
  "language_info": {
   "codemirror_mode": {
    "name": "ipython",
    "version": 3
   },
   "file_extension": ".py",
   "mimetype": "text/x-python",
   "name": "python",
   "nbconvert_exporter": "python",
   "pygments_lexer": "ipython3",
   "version": "3.10.7"
  }
 },
 "nbformat": 4,
 "nbformat_minor": 2
}
